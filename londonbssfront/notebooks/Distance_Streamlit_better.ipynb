{
 "cells": [
  {
   "cell_type": "code",
   "execution_count": 85,
   "metadata": {},
   "outputs": [],
   "source": [
    "import requests\n",
    "import pandas as pd\n",
    "import numpy as np\n",
    "from math import radians, cos, sin, asin, sqrt"
   ]
  },
  {
   "cell_type": "code",
   "execution_count": 86,
   "metadata": {},
   "outputs": [],
   "source": [
    "address = \"SW1A 2AA\"\n",
    "\n",
    "url = \"https://nominatim.openstreetmap.org\"\n",
    "\n",
    "params = {\n",
    "    'q': address,\n",
    "    'format': 'json'\n",
    "}\n",
    "\n",
    "response = requests.get(url,params=params).json() # TEXT -> [] / {}\n",
    "lat_x=response[0]['lat']\n",
    "long_x=response[0]['lon']"
   ]
  },
  {
   "cell_type": "code",
   "execution_count": 87,
   "metadata": {},
   "outputs": [
    {
     "data": {
      "text/plain": [
       "('51.5034402', '-0.1277082')"
      ]
     },
     "execution_count": 87,
     "metadata": {},
     "output_type": "execute_result"
    }
   ],
   "source": [
    "lat_x,long_x"
   ]
  },
  {
   "cell_type": "code",
   "execution_count": 88,
   "metadata": {},
   "outputs": [],
   "source": [
    "## Find Closest Stations"
   ]
  },
  {
   "cell_type": "code",
   "execution_count": 89,
   "metadata": {},
   "outputs": [],
   "source": [
    "stations_df_st=pd.read_csv('../../raw_data/stations_df_st.csv')"
   ]
  },
  {
   "cell_type": "code",
   "execution_count": 90,
   "metadata": {},
   "outputs": [
    {
     "data": {
      "text/html": [
       "<div>\n",
       "<style scoped>\n",
       "    .dataframe tbody tr th:only-of-type {\n",
       "        vertical-align: middle;\n",
       "    }\n",
       "\n",
       "    .dataframe tbody tr th {\n",
       "        vertical-align: top;\n",
       "    }\n",
       "\n",
       "    .dataframe thead th {\n",
       "        text-align: right;\n",
       "    }\n",
       "</style>\n",
       "<table border=\"1\" class=\"dataframe\">\n",
       "  <thead>\n",
       "    <tr style=\"text-align: right;\">\n",
       "      <th></th>\n",
       "      <th>s_id</th>\n",
       "      <th>Station_name</th>\n",
       "      <th>s_lat</th>\n",
       "      <th>s_lon</th>\n",
       "    </tr>\n",
       "  </thead>\n",
       "  <tbody>\n",
       "    <tr>\n",
       "      <th>0</th>\n",
       "      <td>1023</td>\n",
       "      <td>River Street , Clerkenwell</td>\n",
       "      <td>51.529163</td>\n",
       "      <td>-0.109970</td>\n",
       "    </tr>\n",
       "    <tr>\n",
       "      <th>1</th>\n",
       "      <td>1018</td>\n",
       "      <td>Phillimore Gardens, Kensington</td>\n",
       "      <td>51.499606</td>\n",
       "      <td>-0.197574</td>\n",
       "    </tr>\n",
       "    <tr>\n",
       "      <th>2</th>\n",
       "      <td>1012</td>\n",
       "      <td>Christopher Street, Liverpool Street</td>\n",
       "      <td>51.521283</td>\n",
       "      <td>-0.084605</td>\n",
       "    </tr>\n",
       "    <tr>\n",
       "      <th>3</th>\n",
       "      <td>1013</td>\n",
       "      <td>St. Chad's Street, King's Cross</td>\n",
       "      <td>51.530059</td>\n",
       "      <td>-0.120973</td>\n",
       "    </tr>\n",
       "    <tr>\n",
       "      <th>4</th>\n",
       "      <td>3420</td>\n",
       "      <td>Sedding Street, Sloane Square</td>\n",
       "      <td>51.493130</td>\n",
       "      <td>-0.156876</td>\n",
       "    </tr>\n",
       "    <tr>\n",
       "      <th>...</th>\n",
       "      <td>...</td>\n",
       "      <td>...</td>\n",
       "      <td>...</td>\n",
       "      <td>...</td>\n",
       "    </tr>\n",
       "    <tr>\n",
       "      <th>791</th>\n",
       "      <td>300062</td>\n",
       "      <td>South Bermondsey Station, Bermondsey</td>\n",
       "      <td>51.488067</td>\n",
       "      <td>-0.057774</td>\n",
       "    </tr>\n",
       "    <tr>\n",
       "      <th>792</th>\n",
       "      <td>300061</td>\n",
       "      <td>Crimscott Street, Bermondsey</td>\n",
       "      <td>51.495598</td>\n",
       "      <td>-0.078893</td>\n",
       "    </tr>\n",
       "    <tr>\n",
       "      <th>793</th>\n",
       "      <td>300060</td>\n",
       "      <td>Brandon Street, Walworth</td>\n",
       "      <td>51.489102</td>\n",
       "      <td>-0.091548</td>\n",
       "    </tr>\n",
       "    <tr>\n",
       "      <th>794</th>\n",
       "      <td>300059</td>\n",
       "      <td>The Blue, Bermondsey</td>\n",
       "      <td>51.492221</td>\n",
       "      <td>-0.062513</td>\n",
       "    </tr>\n",
       "    <tr>\n",
       "      <th>795</th>\n",
       "      <td>200081</td>\n",
       "      <td>Coomer Place, West Kensington</td>\n",
       "      <td>51.483570</td>\n",
       "      <td>-0.202038</td>\n",
       "    </tr>\n",
       "  </tbody>\n",
       "</table>\n",
       "<p>796 rows × 4 columns</p>\n",
       "</div>"
      ],
      "text/plain": [
       "       s_id                          Station_name      s_lat     s_lon\n",
       "0      1023            River Street , Clerkenwell  51.529163 -0.109970\n",
       "1      1018        Phillimore Gardens, Kensington  51.499606 -0.197574\n",
       "2      1012  Christopher Street, Liverpool Street  51.521283 -0.084605\n",
       "3      1013       St. Chad's Street, King's Cross  51.530059 -0.120973\n",
       "4      3420         Sedding Street, Sloane Square  51.493130 -0.156876\n",
       "..      ...                                   ...        ...       ...\n",
       "791  300062  South Bermondsey Station, Bermondsey  51.488067 -0.057774\n",
       "792  300061          Crimscott Street, Bermondsey  51.495598 -0.078893\n",
       "793  300060              Brandon Street, Walworth  51.489102 -0.091548\n",
       "794  300059                  The Blue, Bermondsey  51.492221 -0.062513\n",
       "795  200081         Coomer Place, West Kensington  51.483570 -0.202038\n",
       "\n",
       "[796 rows x 4 columns]"
      ]
     },
     "execution_count": 90,
     "metadata": {},
     "output_type": "execute_result"
    }
   ],
   "source": [
    "stations_f=stations_df_st[['s_id','Station_name','s_lat','s_lon']]\n",
    "stations_f"
   ]
  },
  {
   "cell_type": "code",
   "execution_count": 91,
   "metadata": {},
   "outputs": [],
   "source": [
    "def dist(lat1, long1, lat2, long2):\n",
    "    \"\"\"\n",
    "Replicating the same formula as mentioned in Wiki\n",
    "    \"\"\"\n",
    "    # convert decimal degrees to radians \n",
    "    lat1, long1, lat2, long2 = map(radians, [lat1, long1, lat2, long2])\n",
    "    # haversine formula \n",
    "    dlon = long2 - long1 \n",
    "    dlat = lat2 - lat1 \n",
    "    a = sin(dlat/2)**2 + cos(lat1) * cos(lat2) * sin(dlon/2)**2\n",
    "    c = 2 * asin(sqrt(a)) \n",
    "    # Radius of earth in kilometers is 6371\n",
    "    km = 6371* c\n",
    "    return km"
   ]
  },
  {
   "cell_type": "code",
   "execution_count": 92,
   "metadata": {},
   "outputs": [],
   "source": [
    "def find_nearest(lat, long,df):\n",
    "    distances = df.apply(\n",
    "        lambda row: dist(lat, long, row['s_lat'], row['s_lon']), \n",
    "        axis=1)\n",
    "    return stations_f.loc[distances.idxmin(), 'Station_name']"
   ]
  },
  {
   "cell_type": "code",
   "execution_count": 93,
   "metadata": {},
   "outputs": [
    {
     "data": {
      "text/plain": [
       "\"Storey's Gate, Westminster\""
      ]
     },
     "execution_count": 93,
     "metadata": {},
     "output_type": "execute_result"
    }
   ],
   "source": [
    "location=find_nearest(float(lat_x),float(long_x),stations_f)\n",
    "location"
   ]
  },
  {
   "cell_type": "code",
   "execution_count": 96,
   "metadata": {},
   "outputs": [
    {
     "data": {
      "text/plain": [
       "716"
      ]
     },
     "execution_count": 96,
     "metadata": {},
     "output_type": "execute_result"
    }
   ],
   "source": [
    "stations_f[stations_f['Station_name']==location].index[0]"
   ]
  },
  {
   "cell_type": "code",
   "execution_count": 97,
   "metadata": {},
   "outputs": [
    {
     "data": {
      "text/html": [
       "<div>\n",
       "<style scoped>\n",
       "    .dataframe tbody tr th:only-of-type {\n",
       "        vertical-align: middle;\n",
       "    }\n",
       "\n",
       "    .dataframe tbody tr th {\n",
       "        vertical-align: top;\n",
       "    }\n",
       "\n",
       "    .dataframe thead th {\n",
       "        text-align: right;\n",
       "    }\n",
       "</style>\n",
       "<table border=\"1\" class=\"dataframe\">\n",
       "  <thead>\n",
       "    <tr style=\"text-align: right;\">\n",
       "      <th></th>\n",
       "      <th>s_id</th>\n",
       "      <th>Station_name</th>\n",
       "      <th>s_lat</th>\n",
       "      <th>s_lon</th>\n",
       "    </tr>\n",
       "  </thead>\n",
       "  <tbody>\n",
       "    <tr>\n",
       "      <th>0</th>\n",
       "      <td>1023</td>\n",
       "      <td>River Street , Clerkenwell</td>\n",
       "      <td>51.529163</td>\n",
       "      <td>-0.109970</td>\n",
       "    </tr>\n",
       "    <tr>\n",
       "      <th>1</th>\n",
       "      <td>1018</td>\n",
       "      <td>Phillimore Gardens, Kensington</td>\n",
       "      <td>51.499606</td>\n",
       "      <td>-0.197574</td>\n",
       "    </tr>\n",
       "    <tr>\n",
       "      <th>2</th>\n",
       "      <td>1012</td>\n",
       "      <td>Christopher Street, Liverpool Street</td>\n",
       "      <td>51.521283</td>\n",
       "      <td>-0.084605</td>\n",
       "    </tr>\n",
       "    <tr>\n",
       "      <th>3</th>\n",
       "      <td>1013</td>\n",
       "      <td>St. Chad's Street, King's Cross</td>\n",
       "      <td>51.530059</td>\n",
       "      <td>-0.120973</td>\n",
       "    </tr>\n",
       "    <tr>\n",
       "      <th>4</th>\n",
       "      <td>3420</td>\n",
       "      <td>Sedding Street, Sloane Square</td>\n",
       "      <td>51.493130</td>\n",
       "      <td>-0.156876</td>\n",
       "    </tr>\n",
       "    <tr>\n",
       "      <th>...</th>\n",
       "      <td>...</td>\n",
       "      <td>...</td>\n",
       "      <td>...</td>\n",
       "      <td>...</td>\n",
       "    </tr>\n",
       "    <tr>\n",
       "      <th>791</th>\n",
       "      <td>300062</td>\n",
       "      <td>South Bermondsey Station, Bermondsey</td>\n",
       "      <td>51.488067</td>\n",
       "      <td>-0.057774</td>\n",
       "    </tr>\n",
       "    <tr>\n",
       "      <th>792</th>\n",
       "      <td>300061</td>\n",
       "      <td>Crimscott Street, Bermondsey</td>\n",
       "      <td>51.495598</td>\n",
       "      <td>-0.078893</td>\n",
       "    </tr>\n",
       "    <tr>\n",
       "      <th>793</th>\n",
       "      <td>300060</td>\n",
       "      <td>Brandon Street, Walworth</td>\n",
       "      <td>51.489102</td>\n",
       "      <td>-0.091548</td>\n",
       "    </tr>\n",
       "    <tr>\n",
       "      <th>794</th>\n",
       "      <td>300059</td>\n",
       "      <td>The Blue, Bermondsey</td>\n",
       "      <td>51.492221</td>\n",
       "      <td>-0.062513</td>\n",
       "    </tr>\n",
       "    <tr>\n",
       "      <th>795</th>\n",
       "      <td>200081</td>\n",
       "      <td>Coomer Place, West Kensington</td>\n",
       "      <td>51.483570</td>\n",
       "      <td>-0.202038</td>\n",
       "    </tr>\n",
       "  </tbody>\n",
       "</table>\n",
       "<p>795 rows × 4 columns</p>\n",
       "</div>"
      ],
      "text/plain": [
       "       s_id                          Station_name      s_lat     s_lon\n",
       "0      1023            River Street , Clerkenwell  51.529163 -0.109970\n",
       "1      1018        Phillimore Gardens, Kensington  51.499606 -0.197574\n",
       "2      1012  Christopher Street, Liverpool Street  51.521283 -0.084605\n",
       "3      1013       St. Chad's Street, King's Cross  51.530059 -0.120973\n",
       "4      3420         Sedding Street, Sloane Square  51.493130 -0.156876\n",
       "..      ...                                   ...        ...       ...\n",
       "791  300062  South Bermondsey Station, Bermondsey  51.488067 -0.057774\n",
       "792  300061          Crimscott Street, Bermondsey  51.495598 -0.078893\n",
       "793  300060              Brandon Street, Walworth  51.489102 -0.091548\n",
       "794  300059                  The Blue, Bermondsey  51.492221 -0.062513\n",
       "795  200081         Coomer Place, West Kensington  51.483570 -0.202038\n",
       "\n",
       "[795 rows x 4 columns]"
      ]
     },
     "execution_count": 97,
     "metadata": {},
     "output_type": "execute_result"
    }
   ],
   "source": [
    "stations_f2=stations_f.drop(stations_f[stations_f['Station_name']==location].index[0],axis=0)\n",
    "stations_f2"
   ]
  },
  {
   "cell_type": "code",
   "execution_count": 51,
   "metadata": {},
   "outputs": [],
   "source": [
    "# def find_nearest_2(lat, long,location):\n",
    "#     stations_f2=stations_f.drop(stations_f[stations_f['Station_name']==origin]['s_id'].index[0],axis=0)\n",
    "#     distances = stations_f2.apply(\n",
    "#         lambda row: dist(lat, long, row['s_lat'], row['s_lon']), \n",
    "#         axis=1)\n",
    "#     return stations_f2.loc[distances.idxmin(), 'Station_name']"
   ]
  },
  {
   "cell_type": "code",
   "execution_count": 98,
   "metadata": {},
   "outputs": [
    {
     "data": {
      "text/plain": [
       "'Westminster Pier, Westminster'"
      ]
     },
     "execution_count": 98,
     "metadata": {},
     "output_type": "execute_result"
    }
   ],
   "source": [
    "##Second closest\n",
    "location_closest=find_nearest(float(lat_x),float(long_x),stations_f2)\n",
    "location_closest"
   ]
  },
  {
   "cell_type": "code",
   "execution_count": null,
   "metadata": {},
   "outputs": [],
   "source": []
  }
 ],
 "metadata": {
  "kernelspec": {
   "display_name": "london-bss-front",
   "language": "python",
   "name": "python3"
  },
  "language_info": {
   "codemirror_mode": {
    "name": "ipython",
    "version": 3
   },
   "file_extension": ".py",
   "mimetype": "text/x-python",
   "name": "python",
   "nbconvert_exporter": "python",
   "pygments_lexer": "ipython3",
   "version": "3.10.6"
  },
  "orig_nbformat": 4
 },
 "nbformat": 4,
 "nbformat_minor": 2
}
